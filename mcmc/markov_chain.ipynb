{
 "cells": [
  {
   "cell_type": "markdown",
   "metadata": {},
   "source": [
    "## マルコフ連鎖\n",
    "1個前の状態に**だけ**よって次の状態が決まる連鎖  \n",
    "例) 明日の株価は1年前の株価とは関係なく、**今日の株価**だけから決まるということ"
   ]
  },
  {
   "cell_type": "markdown",
   "metadata": {},
   "source": [
    "### 実装例\n",
    "天気の遷移状態に関して  \n",
    "参考 : https://qiita.com/yugo-yamamoto/items/1b7da9ea4a65049151da"
   ]
  },
  {
   "cell_type": "code",
   "execution_count": 1,
   "metadata": {},
   "outputs": [],
   "source": [
    "import numpy as np"
   ]
  },
  {
   "cell_type": "code",
   "execution_count": 8,
   "metadata": {},
   "outputs": [],
   "source": [
    "# 晴の日の翌日が、晴になる確率は 0.6 曇りになる確率は 0.3 雨になる確率は 0.1\n",
    "# 曇の日の翌日が、晴になる確率は 0.3 曇りになる確率は 0.6 雨になる確率は 0.1\n",
    "# 雨の日の翌日が、晴になる確率は 0.2 曇りになる確率は 0.3 雨になる確率は 0.5\n",
    "# これを行列で表すと\n",
    "prob_matrix = np.array([\n",
    "    [0.6, 0.3, 0.1],\n",
    "    [0.3, 0.6, 0.1],\n",
    "    [0.2, 0.3, 0.5]\n",
    "])"
   ]
  },
  {
   "cell_type": "code",
   "execution_count": 9,
   "metadata": {},
   "outputs": [
    {
     "name": "stdout",
     "output_type": "stream",
     "text": [
      "1日後\n",
      "[ 0.6  0.3  0.1]\n",
      "2日後\n",
      "[ 0.47  0.39  0.14]\n",
      "3日後\n",
      "[ 0.427  0.417  0.156]\n",
      "4日後\n",
      "[ 0.4125  0.4251  0.1624]\n",
      "5日後\n",
      "[ 0.40751  0.42753  0.16496]\n",
      "6日後\n",
      "[ 0.405757  0.428259  0.165984]\n",
      "7日後\n",
      "[ 0.4051287  0.4284777  0.1663936]\n",
      "8日後\n",
      "[ 0.40489925  0.42854331  0.16655744]\n",
      "9日後\n",
      "[ 0.40481403  0.42856299  0.16662298]\n",
      "10日後\n",
      "[ 0.40478191  0.4285689   0.16664919]\n"
     ]
    }
   ],
   "source": [
    "# 初期状態を晴れとして、翌日の天気の確率分布を計算(10日後まで繰り返す)\n",
    "state = np.array([1, 0, 0])\n",
    "for x in range(10):\n",
    "    # 行列の積を求める\n",
    "    state = np.dot(state, prob_matrix)\n",
    "    print('{0}日後'.format(x + 1))\n",
    "    print(state)"
   ]
  },
  {
   "cell_type": "code",
   "execution_count": null,
   "metadata": {},
   "outputs": [],
   "source": []
  }
 ],
 "metadata": {
  "kernelspec": {
   "display_name": "Python 3",
   "language": "python",
   "name": "python3"
  },
  "language_info": {
   "codemirror_mode": {
    "name": "ipython",
    "version": 3
   },
   "file_extension": ".py",
   "mimetype": "text/x-python",
   "name": "python",
   "nbconvert_exporter": "python",
   "pygments_lexer": "ipython3",
   "version": "3.6.3"
  }
 },
 "nbformat": 4,
 "nbformat_minor": 2
}
