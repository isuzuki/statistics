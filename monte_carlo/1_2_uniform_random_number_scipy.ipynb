{
 "cells": [
  {
   "cell_type": "markdown",
   "metadata": {},
   "source": [
    "## scipy.statsによる一様乱数の生成\n",
    "確率密度関数や累積分布関数を使いたい場合に便利そう\n",
    "\n",
    "#### 参考\n",
    "- [確率密度関数](https://bellcurve.jp/statistics/glossary/811.html) (統計web)\n",
    "- [累積分布関数](https://bellcurve.jp/statistics/glossary/11196.html) (統計web)"
   ]
  },
  {
   "cell_type": "code",
   "execution_count": 10,
   "metadata": {},
   "outputs": [],
   "source": [
    "%matplotlib inline\n",
    "import numpy as np\n",
    "from scipy.stats import uniform\n",
    "import matplotlib.pyplot as plt"
   ]
  },
  {
   "cell_type": "code",
   "execution_count": 11,
   "metadata": {},
   "outputs": [],
   "source": [
    "# 一様分布に従う確率分布からランダムサンプリング\n",
    "np.random.seed()\n",
    "N = 10000\n",
    "# [0.0, 1.0]の一様分布に従う確率変数\n",
    "rv = uniform(loc=0.0, scale=1.0)\n",
    "# 一様分布からサンプリング\n",
    "x = rv.rvs(size=N)"
   ]
  },
  {
   "cell_type": "code",
   "execution_count": 12,
   "metadata": {},
   "outputs": [
    {
     "data": {
      "image/png": "[encoded data removed]",
      "text/plain": [
       "<matplotlib.figure.Figure at 0x7fee12d47320>"
      ]
     },
     "metadata": {},
     "output_type": "display_data"
    }
   ],
   "source": [
    "nbins = 50\n",
    "plt.hist(x, nbins, normed=True)\n",
    "\n",
    "# 真のPDFを描画\n",
    "x = np.linspace(rv.ppf(0), rv.ppf(1), 100)\n",
    "plt.plot(x, uniform.pdf(x), 'r-', lw=2, label='uniform pdf')\n",
    "\n",
    "plt.show()"
   ]
  },
  {
   "cell_type": "code",
   "execution_count": null,
   "metadata": {},
   "outputs": [],
   "source": []
  }
 ],
 "metadata": {
  "kernelspec": {
   "display_name": "Python 3",
   "language": "python",
   "name": "python3"
  },
  "language_info": {
   "codemirror_mode": {
    "name": "ipython",
    "version": 3
   },
   "file_extension": ".py",
   "mimetype": "text/x-python",
   "name": "python",
   "nbconvert_exporter": "python",
   "pygments_lexer": "ipython3",
   "version": "3.6.3"
  }
 },
 "nbformat": 4,
 "nbformat_minor": 2
}
